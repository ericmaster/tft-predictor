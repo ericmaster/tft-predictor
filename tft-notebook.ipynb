{
 "cells": [
  {
   "cell_type": "markdown",
   "id": "c996305a",
   "metadata": {},
   "source": [
    "# Deep Learning - Proyecto Final\n",
    "\n",
    "## Predicción de Tiempo de recorrido en actividades de Trail Running"
   ]
  },
  {
   "cell_type": "markdown",
   "id": "7ed681f5",
   "metadata": {},
   "source": [
    "## Procesamiento de Datos\n",
    "\n",
    "La lógica de procesamiento de datos se encuentra implementada en la clase `DataProcessor` dentro del archivo [data_processor.py](utils/data_processor.py). El dispositivo de registro es un reloj Polar Vantage V. Los datos de Polar se encuentran estructurados en formato JSON por lo que es importante poder pasarlos a un formato tabular antes de su procesamiento en el modelo.\n",
    "\n",
    "El procesamiento de estos datos consiste en extraer y transformar información de archivos JSON que contienen registros de actividades de trail running. El script filtra las actividades por tipo de deporte (TRAIL_RUNNING) y duración (entre 4 y 6 horas). Para cada actividad válida, se extraen muestras de sensores como frecuencia cardíaca, altitud, distancia, temperatura, cadencia y velocidad.\n",
    "\n",
    "Las muestras se organizan en un DataFrame, donde se realizan varias tareas de ingeniería de características:\n",
    "\n",
    "Distancia: Se calcula la diferencia entre muestras consecutivas para obtener el avance por intervalo.\n",
    "Altitud: Se suavizan los datos y se calculan diferencias de elevación, ganancia y pérdida acumulada.\n",
    "Duración: Se calcula el tiempo acumulado entre muestras.\n",
    "\n",
    "El procesamiento se realiza de forma eficiente, permitiendo el uso de múltiples hilos para acelerar la conversión de archivos. Los datos procesados se guardan en archivos CSV estructurados, listos para su análisis y modelado."
   ]
  },
  {
   "cell_type": "markdown",
   "id": "f3047461",
   "metadata": {},
   "source": [
    "## Modelo"
   ]
  },
  {
   "cell_type": "markdown",
   "id": "2f08c221",
   "metadata": {},
   "source": [
    "## Entrenamiento"
   ]
  },
  {
   "cell_type": "markdown",
   "id": "b613763f",
   "metadata": {},
   "source": [
    "## Evaluación"
   ]
  },
  {
   "cell_type": "markdown",
   "id": "3bb4f127",
   "metadata": {},
   "source": [
    "## Discusión y Conclusiones"
   ]
  },
  {
   "cell_type": "markdown",
   "id": "fa3071a1",
   "metadata": {},
   "source": []
  }
 ],
 "metadata": {
  "kernelspec": {
   "display_name": "Python 3",
   "language": "python",
   "name": "python3"
  },
  "language_info": {
   "name": "python",
   "version": "3.10.12"
  }
 },
 "nbformat": 4,
 "nbformat_minor": 5
}
